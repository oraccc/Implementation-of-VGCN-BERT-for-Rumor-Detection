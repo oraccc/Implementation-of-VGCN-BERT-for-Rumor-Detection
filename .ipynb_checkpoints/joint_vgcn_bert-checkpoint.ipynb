{
 "cells": [
  {
   "cell_type": "code",
   "execution_count": 1,
   "id": "654d2987",
   "metadata": {},
   "outputs": [],
   "source": [
    "import pandas as pd\n",
    "import os\n",
    "import json\n",
    "import numpy as np\n",
    "from sklearn.preprocessing import LabelEncoder\n",
    "from sklearn.model_selection import train_test_split\n",
    "from transformers.data.processors.utils import InputExample\n",
    "from split_utils import get_split,get_natural_split,get_fixed_split"
   ]
  },
  {
   "cell_type": "code",
   "execution_count": 2,
   "id": "06274427",
   "metadata": {},
   "outputs": [
    {
     "name": "stdout",
     "output_type": "stream",
     "text": [
      "(4641, 2) (1161, 2)\n"
     ]
    }
   ],
   "source": [
    "raw_data = pd.read_csv('./raw_data.csv')\n",
    "\n",
    "raw_data = raw_data[['text_comments','label']]\n",
    "raw_data = raw_data.rename(columns = {'text_comments':'text'})\n",
    "raw_data['label'] = LabelEncoder().fit_transform(raw_data['label'])\n",
    "\n",
    "train, val = train_test_split(raw_data, test_size=0.2, random_state=35)\n",
    "\n",
    "train.reset_index(drop=True, inplace=True)\n",
    "val.reset_index(drop=True, inplace=True)\n",
    "\n",
    "print(train.shape,val.shape)"
   ]
  },
  {
   "cell_type": "code",
   "execution_count": 3,
   "id": "c454836f",
   "metadata": {},
   "outputs": [],
   "source": [
    "train_tmp = train.copy()\n",
    "train_tmp['text_split'] = train['text'].apply(get_split)\n",
    "train = train_tmp\n",
    "\n",
    "val_tmp = val.copy()\n",
    "val_tmp['text_split'] = val['text'].apply(get_split)\n",
    "val = val_tmp"
   ]
  },
  {
   "cell_type": "code",
   "execution_count": 4,
   "id": "e88cdb80",
   "metadata": {},
   "outputs": [
    {
     "data": {
      "text/plain": [
       "(6850, 6850, 6850)"
      ]
     },
     "execution_count": 4,
     "metadata": {},
     "output_type": "execute_result"
    }
   ],
   "source": [
    "train_l = []  # Segmented Text\n",
    "label_l = []  # Label of Each Text\n",
    "index_l =[]   # The Index of Each Text Before Segmentation\n",
    "for idx,row in train.iterrows():\n",
    "  for l in row['text_split']:\n",
    "    train_l.append(l)\n",
    "    label_l.append(row['label'])\n",
    "    index_l.append(idx)\n",
    "len(train_l), len(label_l), len(index_l)"
   ]
  },
  {
   "cell_type": "code",
   "execution_count": 5,
   "id": "75e3c7e1",
   "metadata": {},
   "outputs": [
    {
     "data": {
      "text/plain": [
       "(1687, 1687, 1687)"
      ]
     },
     "execution_count": 5,
     "metadata": {},
     "output_type": "execute_result"
    }
   ],
   "source": [
    "val_l = []\n",
    "val_label_l = []\n",
    "val_index_l = []\n",
    "for idx,row in val.iterrows():\n",
    "  for l in row['text_split']:\n",
    "    val_l.append(l)\n",
    "    val_label_l.append(row['label'])\n",
    "    val_index_l.append(idx)\n",
    "len(val_l), len(val_label_l), len(val_index_l)"
   ]
  },
  {
   "cell_type": "code",
   "execution_count": 6,
   "id": "338478ac",
   "metadata": {},
   "outputs": [],
   "source": [
    "train_df = pd.DataFrame({'text':train_l, 'label':label_l})\n",
    "val_df = pd.DataFrame({'text':val_l, 'label':val_label_l})"
   ]
  },
  {
   "cell_type": "code",
   "execution_count": null,
   "id": "bc00d9d7",
   "metadata": {},
   "outputs": [],
   "source": []
  }
 ],
 "metadata": {
  "kernelspec": {
   "display_name": "Python 3",
   "language": "python",
   "name": "python3"
  },
  "language_info": {
   "codemirror_mode": {
    "name": "ipython",
    "version": 3
   },
   "file_extension": ".py",
   "mimetype": "text/x-python",
   "name": "python",
   "nbconvert_exporter": "python",
   "pygments_lexer": "ipython3",
   "version": "3.7.10"
  },
  "toc": {
   "base_numbering": 1,
   "nav_menu": {},
   "number_sections": false,
   "sideBar": true,
   "skip_h1_title": false,
   "title_cell": "Table of Contents",
   "title_sidebar": "Contents",
   "toc_cell": false,
   "toc_position": {},
   "toc_section_display": true,
   "toc_window_display": false
  }
 },
 "nbformat": 4,
 "nbformat_minor": 5
}
